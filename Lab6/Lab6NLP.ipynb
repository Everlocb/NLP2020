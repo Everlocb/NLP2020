{
 "cells": [
  {
   "cell_type": "code",
   "execution_count": 99,
   "metadata": {},
   "outputs": [],
   "source": [
    "import pandas as pd\n",
    "from nltk import tokenize\n",
    "from gensim.summarization import summarize\n",
    "import re\n",
    "import rouge\n",
    "import nltk\n",
    "import os\n",
    "import sys"
   ]
  },
  {
   "cell_type": "code",
   "execution_count": 100,
   "metadata": {},
   "outputs": [
    {
     "data": {
      "text/plain": [
       "'C:\\\\Users\\\\User\\\\Desktop'"
      ]
     },
     "execution_count": 100,
     "metadata": {},
     "output_type": "execute_result"
    }
   ],
   "source": [
    "pwd"
   ]
  },
  {
   "cell_type": "code",
   "execution_count": 101,
   "metadata": {},
   "outputs": [
    {
     "name": "stdout",
     "output_type": "stream",
     "text": [
      "C:\\Users\\User\\Desktop\n"
     ]
    }
   ],
   "source": [
    "cd C:\\\\Users\\\\User\\\\Desktop"
   ]
  },
  {
   "cell_type": "code",
   "execution_count": 102,
   "metadata": {},
   "outputs": [
    {
     "data": {
      "text/html": [
       "<div>\n",
       "<style scoped>\n",
       "    .dataframe tbody tr th:only-of-type {\n",
       "        vertical-align: middle;\n",
       "    }\n",
       "\n",
       "    .dataframe tbody tr th {\n",
       "        vertical-align: top;\n",
       "    }\n",
       "\n",
       "    .dataframe thead th {\n",
       "        text-align: right;\n",
       "    }\n",
       "</style>\n",
       "<table border=\"1\" class=\"dataframe\">\n",
       "  <thead>\n",
       "    <tr style=\"text-align: right;\">\n",
       "      <th></th>\n",
       "      <th>0</th>\n",
       "    </tr>\n",
       "  </thead>\n",
       "  <tbody>\n",
       "    <tr>\n",
       "      <th>0</th>\n",
       "      <td>Увидеть мысль\\n\\nЯпонским ученым удалось распо...</td>\n",
       "    </tr>\n",
       "    <tr>\n",
       "      <th>1</th>\n",
       "      <td>Карбофос\\n\\nКарбофос ( O , O - Диметил - S - (...</td>\n",
       "    </tr>\n",
       "    <tr>\n",
       "      <th>2</th>\n",
       "      <td>Киев идет на уступки : Яценюк передает власть ...</td>\n",
       "    </tr>\n",
       "    <tr>\n",
       "      <th>3</th>\n",
       "      <td>« Лужков . Итоги »\\nКонец эры хозяйственника и...</td>\n",
       "    </tr>\n",
       "    <tr>\n",
       "      <th>4</th>\n",
       "      <td>... в ходе написания ходатайства : сделать его...</td>\n",
       "    </tr>\n",
       "  </tbody>\n",
       "</table>\n",
       "</div>"
      ],
      "text/plain": [
       "                                                   0\n",
       "0  Увидеть мысль\\n\\nЯпонским ученым удалось распо...\n",
       "1  Карбофос\\n\\nКарбофос ( O , O - Диметил - S - (...\n",
       "2  Киев идет на уступки : Яценюк передает власть ...\n",
       "3  « Лужков . Итоги »\\nКонец эры хозяйственника и...\n",
       "4  ... в ходе написания ходатайства : сделать его..."
      ]
     },
     "execution_count": 102,
     "metadata": {},
     "output_type": "execute_result"
    }
   ],
   "source": [
    "example = pd.read_json('example_texts.json')\n",
    "example"
   ]
  },
  {
   "cell_type": "code",
   "execution_count": 103,
   "metadata": {},
   "outputs": [
    {
     "data": {
      "text/plain": [
       "'Увидеть мысль\\n\\nЯпонским ученым удалось распознать изображение , увиденное человеком , сканируя его мозг .\\n\\nКак пишет Yomiuri , группе сотрудников отделения нейроинформатики Международного исследовательского института передовых средств коммуникации ( Киото , Япония ) удалось восстановить изображение , увиденное человеком , опираясь только на сканирование электрических сигналов мозга .\\n\\nВ ходе эксперимента исследователи продемонстрировали испытуемым серию из 440 различных картинок , представлявших собой произвольное сочетание темных и светлых пятен , на 100-пиксельном экране .\\nВ процессе демонстрации измерялась активность в зрительной коре головного мозга с помощью функционального магниторезонансного сканера .\\nПосле этого испытуемым были показаны буквы , составляющие слово neuron , и элементарные геометрические фигуры .\\nНа основе сравнения предыдущей серии изображений и показаний сканера исследователям удалось правильно реконструировать новые изображения по сигналам мозговой активности .\\n\\nЗа последние несколько лет нейрофизиология сделала большой шаг вперед в понимании работы человеческого мозга .\\nРабота японских ученых — большой шаг на пути реализации идеи прямого человеко-машинного интерфейса .'"
      ]
     },
     "execution_count": 103,
     "metadata": {},
     "output_type": "execute_result"
    }
   ],
   "source": [
    "sample_text = example[0][0]\n",
    "sample_text"
   ]
  },
  {
   "cell_type": "code",
   "execution_count": 104,
   "metadata": {},
   "outputs": [
    {
     "data": {
      "text/plain": [
       "'Увидеть мысль Японским ученым удалось распознать изображение , увиденное человеком , сканируя его мозг . Как пишет Yomiuri , группе сотрудников отделения нейроинформатики Международного исследовательского института передовых средств коммуникации ( Киото , Япония ) удалось восстановить изображение , увиденное человеком , опираясь только на сканирование электрических сигналов мозга . В ходе эксперимента исследователи продемонстрировали испытуемым серию из 440 различных картинок , представлявших собой произвольное сочетание темных и светлых пятен , на 100-пиксельном экране . В процессе демонстрации измерялась активность в зрительной коре головного мозга с помощью функционального магниторезонансного сканера . После этого испытуемым были показаны буквы , составляющие слово neuron , и элементарные геометрические фигуры . На основе сравнения предыдущей серии изображений и показаний сканера исследователям удалось правильно реконструировать новые изображения по сигналам мозговой активности . За последние несколько лет нейрофизиология сделала большой шаг вперед в понимании работы человеческого мозга . Работа японских ученых — большой шаг на пути реализации идеи прямого человеко-машинного интерфейса .'"
      ]
     },
     "execution_count": 104,
     "metadata": {},
     "output_type": "execute_result"
    }
   ],
   "source": [
    "DOCUMENT = sample_text\n",
    "DOCUMENT = re.sub(r'\\n|\\r', ' ', DOCUMENT)\n",
    "DOCUMENT = re.sub(r' +', ' ', DOCUMENT)\n",
    "DOCUMENT = DOCUMENT.strip()\n",
    "DOCUMENT"
   ]
  },
  {
   "cell_type": "code",
   "execution_count": 105,
   "metadata": {},
   "outputs": [
    {
     "name": "stdout",
     "output_type": "stream",
     "text": [
      "Как пишет Yomiuri , группе сотрудников отделения нейроинформатики Международного исследовательского института передовых средств коммуникации ( Киото , Япония ) удалось восстановить изображение , увиденное человеком , опираясь только на сканирование электрических сигналов мозга .\n"
     ]
    }
   ],
   "source": [
    "summarized_text = summarize(DOCUMENT, ratio=0.2, split=False)\n",
    "print(summarized_text)"
   ]
  },
  {
   "cell_type": "code",
   "execution_count": 106,
   "metadata": {},
   "outputs": [
    {
     "data": {
      "text/html": [
       "<div>\n",
       "<style scoped>\n",
       "    .dataframe tbody tr th:only-of-type {\n",
       "        vertical-align: middle;\n",
       "    }\n",
       "\n",
       "    .dataframe tbody tr th {\n",
       "        vertical-align: top;\n",
       "    }\n",
       "\n",
       "    .dataframe thead th {\n",
       "        text-align: right;\n",
       "    }\n",
       "</style>\n",
       "<table border=\"1\" class=\"dataframe\">\n",
       "  <thead>\n",
       "    <tr style=\"text-align: right;\">\n",
       "      <th></th>\n",
       "      <th>0</th>\n",
       "    </tr>\n",
       "  </thead>\n",
       "  <tbody>\n",
       "    <tr>\n",
       "      <th>0</th>\n",
       "      <td>В Сербии арестован последний военный преступни...</td>\n",
       "    </tr>\n",
       "    <tr>\n",
       "      <th>1</th>\n",
       "      <td>АнтиПоттер\\nРуководство по эксплуатации волшеб...</td>\n",
       "    </tr>\n",
       "    <tr>\n",
       "      <th>2</th>\n",
       "      <td>Авто по карману\\nМихаил Прохоров собирается за...</td>\n",
       "    </tr>\n",
       "    <tr>\n",
       "      <th>3</th>\n",
       "      <td>В Казахстане состоялись выборы Президента\\n\\nВ...</td>\n",
       "    </tr>\n",
       "    <tr>\n",
       "      <th>4</th>\n",
       "      <td>В Москве подвели итоги Международной конференц...</td>\n",
       "    </tr>\n",
       "    <tr>\n",
       "      <th>...</th>\n",
       "      <td>...</td>\n",
       "    </tr>\n",
       "    <tr>\n",
       "      <th>195</th>\n",
       "      <td>13-я экспедиция МКС\\n\\n30 марта 2006 года с ко...</td>\n",
       "    </tr>\n",
       "    <tr>\n",
       "      <th>196</th>\n",
       "      <td>Пираты не признали вину\\n\\nВ американском горо...</td>\n",
       "    </tr>\n",
       "    <tr>\n",
       "      <th>197</th>\n",
       "      <td>Аллегория удачи .\\nВизит Дмитрия Медведева в К...</td>\n",
       "    </tr>\n",
       "    <tr>\n",
       "      <th>198</th>\n",
       "      <td>Тем временем участницы панк-группы встретились...</td>\n",
       "    </tr>\n",
       "    <tr>\n",
       "      <th>199</th>\n",
       "      <td>Статья 54 .\\nОбщие вопросы исчисления налогово...</td>\n",
       "    </tr>\n",
       "  </tbody>\n",
       "</table>\n",
       "<p>200 rows × 1 columns</p>\n",
       "</div>"
      ],
      "text/plain": [
       "                                                     0\n",
       "0    В Сербии арестован последний военный преступни...\n",
       "1    АнтиПоттер\\nРуководство по эксплуатации волшеб...\n",
       "2    Авто по карману\\nМихаил Прохоров собирается за...\n",
       "3    В Казахстане состоялись выборы Президента\\n\\nВ...\n",
       "4    В Москве подвели итоги Международной конференц...\n",
       "..                                                 ...\n",
       "195  13-я экспедиция МКС\\n\\n30 марта 2006 года с ко...\n",
       "196  Пираты не признали вину\\n\\nВ американском горо...\n",
       "197  Аллегория удачи .\\nВизит Дмитрия Медведева в К...\n",
       "198  Тем временем участницы панк-группы встретились...\n",
       "199  Статья 54 .\\nОбщие вопросы исчисления налогово...\n",
       "\n",
       "[200 rows x 1 columns]"
      ]
     },
     "execution_count": 106,
     "metadata": {},
     "output_type": "execute_result"
    }
   ],
   "source": [
    "dataset = pd.read_json('dataset_43428_1.txt')\n",
    "dataset.index_col = 0\n",
    "dataset"
   ]
  },
  {
   "cell_type": "code",
   "execution_count": 107,
   "metadata": {},
   "outputs": [],
   "source": [
    "dataset2 = str(dataset)"
   ]
  },
  {
   "cell_type": "code",
   "execution_count": 108,
   "metadata": {},
   "outputs": [],
   "source": [
    "dataset2 = re.sub(r'\\[[0-9]*\\]', ' ', dataset2)\n",
    "dataset2 = re.sub(r'\\s+', ' ', dataset2)"
   ]
  },
  {
   "cell_type": "code",
   "execution_count": 109,
   "metadata": {},
   "outputs": [],
   "source": [
    "formatted_dataset = re.sub('[^a-zA-Z]', ' ', dataset2 )\n",
    "formatted_dataset = re.sub(r'\\s+', ' ', formatted_dataset)"
   ]
  },
  {
   "cell_type": "code",
   "execution_count": 110,
   "metadata": {},
   "outputs": [
    {
     "data": {
      "text/plain": [
       "' 0 0 В Сербии арестован последний военный преступни... 1 АнтиПоттер\\\\nРуководство по эксплуатации волшеб... 2 Авто по карману\\\\nМихаил Прохоров собирается за... 3 В Казахстане состоялись выборы Президента\\\\n\\\\nВ... 4 В Москве подвели итоги Международной конференц... .. ... 195 13-я экспедиция МКС\\\\n\\\\n30 марта 2006 года с ко... 196 Пираты не признали вину\\\\n\\\\nВ американском горо... 197 Аллегория удачи .\\\\nВизит Дмитрия Медведева в К... 198 Тем временем участницы панк-группы встретились... 199 Статья 54 .\\\\nОбщие вопросы исчисления налогово... [200 rows x 1 columns]'"
      ]
     },
     "execution_count": 110,
     "metadata": {},
     "output_type": "execute_result"
    }
   ],
   "source": [
    "sentence_list = nltk.sent_tokenize(dataset2)\n",
    "dataset2"
   ]
  },
  {
   "cell_type": "code",
   "execution_count": 111,
   "metadata": {},
   "outputs": [],
   "source": [
    "stopwords = nltk.corpus.stopwords.words('russian')\n",
    "\n",
    "word_frequencies = {}\n",
    "for word in nltk.word_tokenize(formatted_dataset):\n",
    "    if word not in stopwords:\n",
    "        if word not in word_frequencies.keys():\n",
    "            word_frequencies[word] = 1\n",
    "        else:\n",
    "            word_frequencies[word] += 1"
   ]
  },
  {
   "cell_type": "code",
   "execution_count": 112,
   "metadata": {},
   "outputs": [],
   "source": [
    "maximum_frequncy = max(word_frequencies.values())\n",
    "\n",
    "for word in word_frequencies.keys():\n",
    "    word_frequencies[word] = (word_frequencies[word]/maximum_frequncy)"
   ]
  },
  {
   "cell_type": "code",
   "execution_count": 113,
   "metadata": {},
   "outputs": [],
   "source": [
    "sentence_scores = {}\n",
    "for sent in sentence_list:\n",
    "    for word in nltk.word_tokenize(sent.lower()):\n",
    "        if word in word_frequencies.keys():\n",
    "            if len(sent.split(' ')) < 30:\n",
    "                if sent not in sentence_scores.keys():\n",
    "                    sentence_scores[sent] = word_frequencies[word]\n",
    "                else:\n",
    "                    sentence_scores[sent] += word_frequencies[word]"
   ]
  },
  {
   "cell_type": "code",
   "execution_count": 114,
   "metadata": {},
   "outputs": [
    {
     "name": "stdout",
     "output_type": "stream",
     "text": [
      "\n"
     ]
    }
   ],
   "source": [
    "import heapq\n",
    "summary_sentences = heapq.nlargest(7, sentence_scores, key=sentence_scores.get)\n",
    "\n",
    "summary = ' '.join(summary_sentences)\n",
    "print(summary)"
   ]
  },
  {
   "cell_type": "code",
   "execution_count": null,
   "metadata": {},
   "outputs": [],
   "source": []
  },
  {
   "cell_type": "code",
   "execution_count": 115,
   "metadata": {},
   "outputs": [],
   "source": [
    "def simpleword_count(text):\n",
    "    word_list = tokenize.word_tokenize(text)\n",
    "    return len(word_list)\n",
    "\n",
    "def word_count_df(row):\n",
    "    text = row[0]\n",
    "    word_list = tokenize.word_tokenize(text)\n",
    "    return len(word_list)\n",
    "\n",
    "\n",
    "def clean_text(row):\n",
    "    text = row[0]\n",
    "    text = text.lower()\n",
    "    text = re.sub(r'\\n|\\r', ' ', text)\n",
    "    text = re.sub(r' +', ' ', text)\n",
    "    text = text.strip()\n",
    "    return text\n",
    "\n",
    "def summary_text(row):\n",
    "    text = row['clean_text']\n",
    "    sentences = tokenize.sent_tokenize(text)\n",
    "    wc = simpleword_count(text)\n",
    "    if len(sentences) == 1:\n",
    "        return text\n",
    "    if wc <= 1500:\n",
    "        summarized_text = summarize(text, ratio=0.2, split=False)\n",
    "    elif wc >= 1500:\n",
    "        summarized_text = summarize(text, word_count=300, split=False)\n",
    "    \n",
    "    return summarized_text\n",
    "\n",
    "def summary_word_count_df(row):\n",
    "    text = row['summary_text']\n",
    "    word_list = tokenize.word_tokenize(text)\n",
    "    return len(word_list)"
   ]
  },
  {
   "cell_type": "code",
   "execution_count": 116,
   "metadata": {},
   "outputs": [
    {
     "data": {
      "text/html": [
       "<div>\n",
       "<style scoped>\n",
       "    .dataframe tbody tr th:only-of-type {\n",
       "        vertical-align: middle;\n",
       "    }\n",
       "\n",
       "    .dataframe tbody tr th {\n",
       "        vertical-align: top;\n",
       "    }\n",
       "\n",
       "    .dataframe thead th {\n",
       "        text-align: right;\n",
       "    }\n",
       "</style>\n",
       "<table border=\"1\" class=\"dataframe\">\n",
       "  <thead>\n",
       "    <tr style=\"text-align: right;\">\n",
       "      <th></th>\n",
       "      <th>0</th>\n",
       "      <th>orig_word_count</th>\n",
       "      <th>clean_text</th>\n",
       "      <th>summary_text</th>\n",
       "      <th>summary_word_count</th>\n",
       "    </tr>\n",
       "  </thead>\n",
       "  <tbody>\n",
       "    <tr>\n",
       "      <th>0</th>\n",
       "      <td>В Сербии арестован последний военный преступни...</td>\n",
       "      <td>213</td>\n",
       "      <td>в сербии арестован последний военный преступни...</td>\n",
       "      <td>за информацию , способную помочь в поимке гора...</td>\n",
       "      <td>50</td>\n",
       "    </tr>\n",
       "    <tr>\n",
       "      <th>1</th>\n",
       "      <td>АнтиПоттер\\nРуководство по эксплуатации волшеб...</td>\n",
       "      <td>1918</td>\n",
       "      <td>антипоттер руководство по эксплуатации волшебн...</td>\n",
       "      <td>мне уже говорили мои молодые коллеги и просто ...</td>\n",
       "      <td>296</td>\n",
       "    </tr>\n",
       "    <tr>\n",
       "      <th>2</th>\n",
       "      <td>Авто по карману\\nМихаил Прохоров собирается за...</td>\n",
       "      <td>110</td>\n",
       "      <td>авто по карману михаил прохоров собирается зан...</td>\n",
       "      <td>интересы у олигарха михаила прохорова самые ра...</td>\n",
       "      <td>18</td>\n",
       "    </tr>\n",
       "    <tr>\n",
       "      <th>3</th>\n",
       "      <td>В Казахстане состоялись выборы Президента\\n\\nВ...</td>\n",
       "      <td>376</td>\n",
       "      <td>в казахстане состоялись выборы президента в во...</td>\n",
       "      <td>по предварительным данным опроса избирателей н...</td>\n",
       "      <td>51</td>\n",
       "    </tr>\n",
       "    <tr>\n",
       "      <th>4</th>\n",
       "      <td>В Москве подвели итоги Международной конференц...</td>\n",
       "      <td>880</td>\n",
       "      <td>в москве подвели итоги международной конференц...</td>\n",
       "      <td>в москве подвели итоги международной конференц...</td>\n",
       "      <td>228</td>\n",
       "    </tr>\n",
       "    <tr>\n",
       "      <th>...</th>\n",
       "      <td>...</td>\n",
       "      <td>...</td>\n",
       "      <td>...</td>\n",
       "      <td>...</td>\n",
       "      <td>...</td>\n",
       "    </tr>\n",
       "    <tr>\n",
       "      <th>195</th>\n",
       "      <td>13-я экспедиция МКС\\n\\n30 марта 2006 года с ко...</td>\n",
       "      <td>576</td>\n",
       "      <td>13-я экспедиция мкс 30 марта 2006 года с космо...</td>\n",
       "      <td>13-я экспедиция мкс 30 марта 2006 года с космо...</td>\n",
       "      <td>162</td>\n",
       "    </tr>\n",
       "    <tr>\n",
       "      <th>196</th>\n",
       "      <td>Пираты не признали вину\\n\\nВ американском горо...</td>\n",
       "      <td>253</td>\n",
       "      <td>пираты не признали вину в американском городе ...</td>\n",
       "      <td>кроме того , в руках вмс сша у берегов сомали ...</td>\n",
       "      <td>66</td>\n",
       "    </tr>\n",
       "    <tr>\n",
       "      <th>197</th>\n",
       "      <td>Аллегория удачи .\\nВизит Дмитрия Медведева в К...</td>\n",
       "      <td>1136</td>\n",
       "      <td>аллегория удачи . визит дмитрия медведева в ки...</td>\n",
       "      <td>трудно сказать , смирились ли сторонники викто...</td>\n",
       "      <td>344</td>\n",
       "    </tr>\n",
       "    <tr>\n",
       "      <th>198</th>\n",
       "      <td>Тем временем участницы панк-группы встретились...</td>\n",
       "      <td>519</td>\n",
       "      <td>тем временем участницы панк-группы встретились...</td>\n",
       "      <td>тем временем участницы панк-группы встретились...</td>\n",
       "      <td>100</td>\n",
       "    </tr>\n",
       "    <tr>\n",
       "      <th>199</th>\n",
       "      <td>Статья 54 .\\nОбщие вопросы исчисления налогово...</td>\n",
       "      <td>265</td>\n",
       "      <td>статья 54 . общие вопросы исчисления налоговой...</td>\n",
       "      <td>в случае невозможности определения периода сов...</td>\n",
       "      <td>32</td>\n",
       "    </tr>\n",
       "  </tbody>\n",
       "</table>\n",
       "<p>200 rows × 5 columns</p>\n",
       "</div>"
      ],
      "text/plain": [
       "                                                     0  orig_word_count  \\\n",
       "0    В Сербии арестован последний военный преступни...              213   \n",
       "1    АнтиПоттер\\nРуководство по эксплуатации волшеб...             1918   \n",
       "2    Авто по карману\\nМихаил Прохоров собирается за...              110   \n",
       "3    В Казахстане состоялись выборы Президента\\n\\nВ...              376   \n",
       "4    В Москве подвели итоги Международной конференц...              880   \n",
       "..                                                 ...              ...   \n",
       "195  13-я экспедиция МКС\\n\\n30 марта 2006 года с ко...              576   \n",
       "196  Пираты не признали вину\\n\\nВ американском горо...              253   \n",
       "197  Аллегория удачи .\\nВизит Дмитрия Медведева в К...             1136   \n",
       "198  Тем временем участницы панк-группы встретились...              519   \n",
       "199  Статья 54 .\\nОбщие вопросы исчисления налогово...              265   \n",
       "\n",
       "                                            clean_text  \\\n",
       "0    в сербии арестован последний военный преступни...   \n",
       "1    антипоттер руководство по эксплуатации волшебн...   \n",
       "2    авто по карману михаил прохоров собирается зан...   \n",
       "3    в казахстане состоялись выборы президента в во...   \n",
       "4    в москве подвели итоги международной конференц...   \n",
       "..                                                 ...   \n",
       "195  13-я экспедиция мкс 30 марта 2006 года с космо...   \n",
       "196  пираты не признали вину в американском городе ...   \n",
       "197  аллегория удачи . визит дмитрия медведева в ки...   \n",
       "198  тем временем участницы панк-группы встретились...   \n",
       "199  статья 54 . общие вопросы исчисления налоговой...   \n",
       "\n",
       "                                          summary_text  summary_word_count  \n",
       "0    за информацию , способную помочь в поимке гора...                  50  \n",
       "1    мне уже говорили мои молодые коллеги и просто ...                 296  \n",
       "2    интересы у олигарха михаила прохорова самые ра...                  18  \n",
       "3    по предварительным данным опроса избирателей н...                  51  \n",
       "4    в москве подвели итоги международной конференц...                 228  \n",
       "..                                                 ...                 ...  \n",
       "195  13-я экспедиция мкс 30 марта 2006 года с космо...                 162  \n",
       "196  кроме того , в руках вмс сша у берегов сомали ...                  66  \n",
       "197  трудно сказать , смирились ли сторонники викто...                 344  \n",
       "198  тем временем участницы панк-группы встретились...                 100  \n",
       "199  в случае невозможности определения периода сов...                  32  \n",
       "\n",
       "[200 rows x 5 columns]"
      ]
     },
     "execution_count": 116,
     "metadata": {},
     "output_type": "execute_result"
    }
   ],
   "source": [
    "dataset['orig_word_count'] = dataset.apply(lambda row: word_count_df(row), axis=1)\n",
    "dataset['clean_text'] = dataset.apply(lambda row: clean_text(row), axis=1)\n",
    "dataset['summary_text'] = dataset.apply(lambda row: summary_text(row), axis=1)\n",
    "dataset['summary_word_count'] = dataset.apply(lambda row: summary_word_count_df(row), axis=1)\n",
    "dataset"
   ]
  },
  {
   "cell_type": "code",
   "execution_count": 117,
   "metadata": {},
   "outputs": [
    {
     "data": {
      "text/html": [
       "<div>\n",
       "<style scoped>\n",
       "    .dataframe tbody tr th:only-of-type {\n",
       "        vertical-align: middle;\n",
       "    }\n",
       "\n",
       "    .dataframe tbody tr th {\n",
       "        vertical-align: top;\n",
       "    }\n",
       "\n",
       "    .dataframe thead th {\n",
       "        text-align: right;\n",
       "    }\n",
       "</style>\n",
       "<table border=\"1\" class=\"dataframe\">\n",
       "  <thead>\n",
       "    <tr style=\"text-align: right;\">\n",
       "      <th></th>\n",
       "      <th>summary_text</th>\n",
       "    </tr>\n",
       "  </thead>\n",
       "  <tbody>\n",
       "    <tr>\n",
       "      <th>0</th>\n",
       "      <td>за информацию , способную помочь в поимке гора...</td>\n",
       "    </tr>\n",
       "    <tr>\n",
       "      <th>1</th>\n",
       "      <td>мне уже говорили мои молодые коллеги и просто ...</td>\n",
       "    </tr>\n",
       "    <tr>\n",
       "      <th>2</th>\n",
       "      <td>интересы у олигарха михаила прохорова самые ра...</td>\n",
       "    </tr>\n",
       "    <tr>\n",
       "      <th>3</th>\n",
       "      <td>по предварительным данным опроса избирателей н...</td>\n",
       "    </tr>\n",
       "    <tr>\n",
       "      <th>4</th>\n",
       "      <td>в москве подвели итоги международной конференц...</td>\n",
       "    </tr>\n",
       "    <tr>\n",
       "      <th>...</th>\n",
       "      <td>...</td>\n",
       "    </tr>\n",
       "    <tr>\n",
       "      <th>195</th>\n",
       "      <td>13-я экспедиция мкс 30 марта 2006 года с космо...</td>\n",
       "    </tr>\n",
       "    <tr>\n",
       "      <th>196</th>\n",
       "      <td>кроме того , в руках вмс сша у берегов сомали ...</td>\n",
       "    </tr>\n",
       "    <tr>\n",
       "      <th>197</th>\n",
       "      <td>трудно сказать , смирились ли сторонники викто...</td>\n",
       "    </tr>\n",
       "    <tr>\n",
       "      <th>198</th>\n",
       "      <td>тем временем участницы панк-группы встретились...</td>\n",
       "    </tr>\n",
       "    <tr>\n",
       "      <th>199</th>\n",
       "      <td>в случае невозможности определения периода сов...</td>\n",
       "    </tr>\n",
       "  </tbody>\n",
       "</table>\n",
       "<p>200 rows × 1 columns</p>\n",
       "</div>"
      ],
      "text/plain": [
       "                                          summary_text\n",
       "0    за информацию , способную помочь в поимке гора...\n",
       "1    мне уже говорили мои молодые коллеги и просто ...\n",
       "2    интересы у олигарха михаила прохорова самые ра...\n",
       "3    по предварительным данным опроса избирателей н...\n",
       "4    в москве подвели итоги международной конференц...\n",
       "..                                                 ...\n",
       "195  13-я экспедиция мкс 30 марта 2006 года с космо...\n",
       "196  кроме того , в руках вмс сша у берегов сомали ...\n",
       "197  трудно сказать , смирились ли сторонники викто...\n",
       "198  тем временем участницы панк-группы встретились...\n",
       "199  в случае невозможности определения периода сов...\n",
       "\n",
       "[200 rows x 1 columns]"
      ]
     },
     "execution_count": 117,
     "metadata": {},
     "output_type": "execute_result"
    }
   ],
   "source": [
    "dataset.to_json('gensim_output_dataset.json')\n",
    "result = pd.DataFrame(dataset['summary_text'])\n",
    "result"
   ]
  },
  {
   "cell_type": "code",
   "execution_count": 118,
   "metadata": {},
   "outputs": [
    {
     "data": {
      "text/html": [
       "<div>\n",
       "<style scoped>\n",
       "    .dataframe tbody tr th:only-of-type {\n",
       "        vertical-align: middle;\n",
       "    }\n",
       "\n",
       "    .dataframe tbody tr th {\n",
       "        vertical-align: top;\n",
       "    }\n",
       "\n",
       "    .dataframe thead th {\n",
       "        text-align: right;\n",
       "    }\n",
       "</style>\n",
       "<table border=\"1\" class=\"dataframe\">\n",
       "  <thead>\n",
       "    <tr style=\"text-align: right;\">\n",
       "      <th></th>\n",
       "      <th>Unnamed: 0</th>\n",
       "      <th>0</th>\n",
       "      <th>orig_word_count</th>\n",
       "      <th>clean_text</th>\n",
       "      <th>summary_text</th>\n",
       "      <th>summary_word_count</th>\n",
       "    </tr>\n",
       "  </thead>\n",
       "  <tbody>\n",
       "    <tr>\n",
       "      <th>0</th>\n",
       "      <td>0</td>\n",
       "      <td>В Сербии арестован последний военный преступни...</td>\n",
       "      <td>213</td>\n",
       "      <td>в сербии арестован последний военный преступни...</td>\n",
       "      <td>за информацию , способную помочь в поимке гора...</td>\n",
       "      <td>50</td>\n",
       "    </tr>\n",
       "    <tr>\n",
       "      <th>1</th>\n",
       "      <td>1</td>\n",
       "      <td>АнтиПоттер\\nРуководство по эксплуатации волшеб...</td>\n",
       "      <td>1918</td>\n",
       "      <td>антипоттер руководство по эксплуатации волшебн...</td>\n",
       "      <td>мне уже говорили мои молодые коллеги и просто ...</td>\n",
       "      <td>296</td>\n",
       "    </tr>\n",
       "    <tr>\n",
       "      <th>2</th>\n",
       "      <td>2</td>\n",
       "      <td>Авто по карману\\nМихаил Прохоров собирается за...</td>\n",
       "      <td>110</td>\n",
       "      <td>авто по карману михаил прохоров собирается зан...</td>\n",
       "      <td>интересы у олигарха михаила прохорова самые ра...</td>\n",
       "      <td>18</td>\n",
       "    </tr>\n",
       "    <tr>\n",
       "      <th>3</th>\n",
       "      <td>3</td>\n",
       "      <td>В Казахстане состоялись выборы Президента\\n\\nВ...</td>\n",
       "      <td>376</td>\n",
       "      <td>в казахстане состоялись выборы президента в во...</td>\n",
       "      <td>по предварительным данным опроса избирателей н...</td>\n",
       "      <td>51</td>\n",
       "    </tr>\n",
       "    <tr>\n",
       "      <th>4</th>\n",
       "      <td>4</td>\n",
       "      <td>В Москве подвели итоги Международной конференц...</td>\n",
       "      <td>880</td>\n",
       "      <td>в москве подвели итоги международной конференц...</td>\n",
       "      <td>в москве подвели итоги международной конференц...</td>\n",
       "      <td>228</td>\n",
       "    </tr>\n",
       "    <tr>\n",
       "      <th>...</th>\n",
       "      <td>...</td>\n",
       "      <td>...</td>\n",
       "      <td>...</td>\n",
       "      <td>...</td>\n",
       "      <td>...</td>\n",
       "      <td>...</td>\n",
       "    </tr>\n",
       "    <tr>\n",
       "      <th>195</th>\n",
       "      <td>195</td>\n",
       "      <td>13-я экспедиция МКС\\n\\n30 марта 2006 года с ко...</td>\n",
       "      <td>576</td>\n",
       "      <td>13-я экспедиция мкс 30 марта 2006 года с космо...</td>\n",
       "      <td>13-я экспедиция мкс 30 марта 2006 года с космо...</td>\n",
       "      <td>162</td>\n",
       "    </tr>\n",
       "    <tr>\n",
       "      <th>196</th>\n",
       "      <td>196</td>\n",
       "      <td>Пираты не признали вину\\n\\nВ американском горо...</td>\n",
       "      <td>253</td>\n",
       "      <td>пираты не признали вину в американском городе ...</td>\n",
       "      <td>кроме того , в руках вмс сша у берегов сомали ...</td>\n",
       "      <td>66</td>\n",
       "    </tr>\n",
       "    <tr>\n",
       "      <th>197</th>\n",
       "      <td>197</td>\n",
       "      <td>Аллегория удачи .\\nВизит Дмитрия Медведева в К...</td>\n",
       "      <td>1136</td>\n",
       "      <td>аллегория удачи . визит дмитрия медведева в ки...</td>\n",
       "      <td>трудно сказать , смирились ли сторонники викто...</td>\n",
       "      <td>344</td>\n",
       "    </tr>\n",
       "    <tr>\n",
       "      <th>198</th>\n",
       "      <td>198</td>\n",
       "      <td>Тем временем участницы панк-группы встретились...</td>\n",
       "      <td>519</td>\n",
       "      <td>тем временем участницы панк-группы встретились...</td>\n",
       "      <td>тем временем участницы панк-группы встретились...</td>\n",
       "      <td>100</td>\n",
       "    </tr>\n",
       "    <tr>\n",
       "      <th>199</th>\n",
       "      <td>199</td>\n",
       "      <td>Статья 54 .\\nОбщие вопросы исчисления налогово...</td>\n",
       "      <td>265</td>\n",
       "      <td>статья 54 . общие вопросы исчисления налоговой...</td>\n",
       "      <td>в случае невозможности определения периода сов...</td>\n",
       "      <td>32</td>\n",
       "    </tr>\n",
       "  </tbody>\n",
       "</table>\n",
       "<p>200 rows × 6 columns</p>\n",
       "</div>"
      ],
      "text/plain": [
       "     Unnamed: 0                                                  0  \\\n",
       "0             0  В Сербии арестован последний военный преступни...   \n",
       "1             1  АнтиПоттер\\nРуководство по эксплуатации волшеб...   \n",
       "2             2  Авто по карману\\nМихаил Прохоров собирается за...   \n",
       "3             3  В Казахстане состоялись выборы Президента\\n\\nВ...   \n",
       "4             4  В Москве подвели итоги Международной конференц...   \n",
       "..          ...                                                ...   \n",
       "195         195  13-я экспедиция МКС\\n\\n30 марта 2006 года с ко...   \n",
       "196         196  Пираты не признали вину\\n\\nВ американском горо...   \n",
       "197         197  Аллегория удачи .\\nВизит Дмитрия Медведева в К...   \n",
       "198         198  Тем временем участницы панк-группы встретились...   \n",
       "199         199  Статья 54 .\\nОбщие вопросы исчисления налогово...   \n",
       "\n",
       "     orig_word_count                                         clean_text  \\\n",
       "0                213  в сербии арестован последний военный преступни...   \n",
       "1               1918  антипоттер руководство по эксплуатации волшебн...   \n",
       "2                110  авто по карману михаил прохоров собирается зан...   \n",
       "3                376  в казахстане состоялись выборы президента в во...   \n",
       "4                880  в москве подвели итоги международной конференц...   \n",
       "..               ...                                                ...   \n",
       "195              576  13-я экспедиция мкс 30 марта 2006 года с космо...   \n",
       "196              253  пираты не признали вину в американском городе ...   \n",
       "197             1136  аллегория удачи . визит дмитрия медведева в ки...   \n",
       "198              519  тем временем участницы панк-группы встретились...   \n",
       "199              265  статья 54 . общие вопросы исчисления налоговой...   \n",
       "\n",
       "                                          summary_text  summary_word_count  \n",
       "0    за информацию , способную помочь в поимке гора...                  50  \n",
       "1    мне уже говорили мои молодые коллеги и просто ...                 296  \n",
       "2    интересы у олигарха михаила прохорова самые ра...                  18  \n",
       "3    по предварительным данным опроса избирателей н...                  51  \n",
       "4    в москве подвели итоги международной конференц...                 228  \n",
       "..                                                 ...                 ...  \n",
       "195  13-я экспедиция мкс 30 марта 2006 года с космо...                 162  \n",
       "196  кроме того , в руках вмс сша у берегов сомали ...                  66  \n",
       "197  трудно сказать , смирились ли сторонники викто...                 344  \n",
       "198  тем временем участницы панк-группы встретились...                 100  \n",
       "199  в случае невозможности определения периода сов...                  32  \n",
       "\n",
       "[200 rows x 6 columns]"
      ]
     },
     "execution_count": 118,
     "metadata": {},
     "output_type": "execute_result"
    }
   ],
   "source": [
    "dataset.to_csv('gensim_output_dataset.csv')\n",
    "data = pd.read_csv('gensim_output_dataset.csv')\n",
    "data"
   ]
  },
  {
   "cell_type": "code",
   "execution_count": 119,
   "metadata": {},
   "outputs": [],
   "source": [
    "cwd = os.getcwd()"
   ]
  },
  {
   "cell_type": "code",
   "execution_count": 120,
   "metadata": {},
   "outputs": [],
   "source": [
    "# initialize setting of ROUGE, eval ROUGE-1, 2, SU4, L\n",
    "from rouge import Rouge"
   ]
  },
  {
   "cell_type": "code",
   "execution_count": 121,
   "metadata": {},
   "outputs": [],
   "source": [
    "from rouge import Rouge \n",
    "\n",
    "#hypothesis = \"the #### transcript is a written version of each day 's cnn student news program use this transcript to help students with reading comprehension and vocabulary use the weekly newsquiz to test your knowledge of storie s you saw on cnn student news\"\n",
    "#reference = \"this page includes the show transcript use the transcript to help students with reading comprehension and vocabulary at the bottom of the page , comment for a chance to be mentioned on cnn student news . you must be a teacher or a student age # # or older to request a mention on the cnn student news roll call . the weekly newsquiz tests students ' knowledge of even ts in the news\"\n",
    "\n",
    "hyp = str(data.orig_word_count)\n",
    "ref = str(data.summary_word_count)\n",
    "\n",
    "rouge = Rouge()"
   ]
  },
  {
   "cell_type": "code",
   "execution_count": 122,
   "metadata": {},
   "outputs": [
    {
     "data": {
      "text/plain": [
       "[{'rouge-1': {'f': 0.5769230719230769,\n",
       "   'p': 0.5769230769230769,\n",
       "   'r': 0.5769230769230769},\n",
       "  'rouge-2': {'f': 0.1199999950000002, 'p': 0.12, 'r': 0.12},\n",
       "  'rouge-l': {'f': 0.5769230719230769,\n",
       "   'p': 0.5769230769230769,\n",
       "   'r': 0.5769230769230769}}]"
      ]
     },
     "execution_count": 122,
     "metadata": {},
     "output_type": "execute_result"
    }
   ],
   "source": [
    "scores = rouge.get_scores(hyp, ref)\n",
    "scores"
   ]
  },
  {
   "cell_type": "markdown",
   "metadata": {},
   "source": [
    "https://radimrehurek.com/gensim/summarization/summariser.html\n",
    "\n",
    "https://github.com/pltrdy/rouge\n",
    "    \n",
    "https://stackabuse.com/text-summarization-with-nltk-in-python/"
   ]
  },
  {
   "cell_type": "code",
   "execution_count": null,
   "metadata": {},
   "outputs": [],
   "source": []
  }
 ],
 "metadata": {
  "kernelspec": {
   "display_name": "Python 3",
   "language": "python",
   "name": "python3"
  },
  "language_info": {
   "codemirror_mode": {
    "name": "ipython",
    "version": 3
   },
   "file_extension": ".py",
   "mimetype": "text/x-python",
   "name": "python",
   "nbconvert_exporter": "python",
   "pygments_lexer": "ipython3",
   "version": "3.7.4"
  }
 },
 "nbformat": 4,
 "nbformat_minor": 4
}
